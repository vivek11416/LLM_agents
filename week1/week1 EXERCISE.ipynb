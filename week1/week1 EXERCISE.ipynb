{
 "cells": [
  {
   "cell_type": "code",
   "execution_count": 1,
   "id": "c1070317-3ed9-4659-abe3-828943230e03",
   "metadata": {},
   "outputs": [],
   "source": [
    "import os\n",
    "import requests\n",
    "import json\n",
    "from typing import List\n",
    "from dotenv import load_dotenv\n",
    "from bs4 import BeautifulSoup\n",
    "from IPython.display import Markdown, display, update_display\n",
    "from openai import OpenAI"
   ]
  },
  {
   "cell_type": "code",
   "execution_count": 2,
   "id": "4a456906-915a-4bfd-bb9d-57e505c5093f",
   "metadata": {},
   "outputs": [],
   "source": [
    "selected_model = \"local\"\n",
    "\n",
    "load_dotenv(override=True)\n",
    "api_key = os.getenv('PERPLEXITY_API_KEY')\n",
    "\n",
    "MODEL,api_key,base_url = ('sonar-pro',api_key,\"https://api.perplexity.ai\") if selected_model==\"perplexity\" else(\"gemma3\",'ollama','http://localhost:11434/v1')\n",
    "\n",
    "openai = OpenAI(base_url=base_url,api_key=api_key)\n"
   ]
  },
  {
   "cell_type": "code",
   "execution_count": 3,
   "id": "3f0d0137-52b0-47a8-81a8-11a90a010798",
   "metadata": {},
   "outputs": [],
   "source": [
    "question = \"\"\"\n",
    "Please explain what this code does and why:\n",
    "yield from {book.get(\"author\") for book in books if book.get(\"author\")}\n",
    "\"\"\""
   ]
  },
  {
   "cell_type": "code",
   "execution_count": 4,
   "id": "60ce7000-a4a5-4cce-a261-e75ef45063b4",
   "metadata": {},
   "outputs": [
    {
     "data": {
      "text/markdown": [
       "Okay, let's break down this Python code snippet:\n",
       "\n",
       "python\n",
       "yield from {book.get(\"author\") for book in books if book.get(\"author\")}\n",
       "\n",
       "\n",
       "**What it Does**\n",
       "\n",
       "This code is a generator expression that iterates through a list of dictionaries (`books`) and extracts the \"author\" field from each dictionary where the \"author\" field exists.  It then yields (produces) these author names one at a time as the generator is requested.\n",
       "\n",
       "**Detailed Explanation**\n",
       "\n",
       "1. **`books`:**  This is assumed to be a list of dictionaries. Each dictionary in the list is assumed to represent a book, and each book dictionary is expected to have a key called \"author\" with a corresponding value (the author's name).  For example:\n",
       "\n",
       "   python\n",
       "   books = [\n",
       "       {\"title\": \"The Lord of the Rings\", \"author\": \"J.R.R. Tolkien\"},\n",
       "       {\"title\": \"Pride and Prejudice\", \"author\": \"Jane Austen\"},\n",
       "       {\"title\": \"1984\", \"author\": \"George Orwell\"},\n",
       "       {\"title\": \"The Hitchhiker's Guide to the Galaxy\"},  # Missing \"author\"\n",
       "       {\"title\": \"To Kill a Mockingbird\", \"author\": \"Harper Lee\"}\n",
       "    ]\n",
       "   \n",
       "\n",
       "2. **`{book.get(\"author\") for book in books if book.get(\"author\")}`**: This is a *generator expression*. Let's break it down further:\n",
       "   - **`for book in books`**: This iterates through each dictionary (`book`) in the `books` list.\n",
       "   - **`if book.get(\"author\")`**:  This is the crucial filtering part.  `book.get(\"author\")` attempts to retrieve the value associated with the \"author\" key from the current dictionary. If the \"author\" key *exists* in the dictionary, `book.get(\"author\")` returns the value (the author's name). If the \"author\" key *does not exist*, `book.get(\"author\")` returns `None`. The `if` condition checks if the return value of `book.get(\"author\")` is truthy. In Python, a value like `None` is considered \"falsy\".\n",
       "   - **`{...}`**: The curly braces create a set comprehension.  The set comprehension automatically filters out `None` values (because `None` is a \"falsy\" value).  It collects the author names from the dictionaries where the \"author\" field was present.  The set comprehension is used in conjunction with the `yield from` statement to generate the results.\n",
       "\n",
       "3. **`yield from ...`**:\n",
       "   - `yield`: This keyword turns the generator expression into a generator object. Generators are special types of iterators that produce values on demand rather than creating an entire list in memory.\n",
       "   - `yield from`: This is a powerful construct that effectively \"delegates\" to another iterable (in this case, the set created by the set comprehension). It takes each item from the set produced by the set comprehension and yields it one by one to the caller of the generator.\n",
       "\n",
       "**Why this is done (and when it's useful)**\n",
       "\n",
       "* **Memory Efficiency:**  Using a generator is more memory-efficient, especially if `books` is a very large list.  It doesn't store all the author names in memory at once; only one author name is generated at a time when the generator is requested.\n",
       "* **Lazy Evaluation:** The values are generated only when they are needed. This is useful if you only need a subset of the author names.\n",
       "* **Readability:**  The `yield from` syntax is often considered more readable than a traditional loop with a `for` statement when working with iterators.\n",
       "\n",
       "**Example Usage**\n",
       "\n",
       "python\n",
       "for author in yield from {book.get(\"author\") for book in books if book.get(\"author\")}:\n",
       "    print(author)\n",
       "\n",
       "\n",
       "**Output**\n",
       "\n",
       "\n",
       "J.R.R. Tolkien\n",
       "Jane Austen\n",
       "George Orwell\n",
       "Harper Lee\n",
       "\n",
       "\n",
       "**In summary, this code efficiently extracts and yields the author names from a list of book dictionaries, filtering out books where the \"author\" field is missing.**\n"
      ],
      "text/plain": [
       "<IPython.core.display.Markdown object>"
      ]
     },
     "metadata": {},
     "output_type": "display_data"
    }
   ],
   "source": [
    "stream = openai.chat.completions.create(\n",
    "    model=MODEL,\n",
    "    messages=[\n",
    "        {\"role\": \"user\", \"content\": question}\n",
    "      ],\n",
    "    stream=True\n",
    ")\n",
    "\n",
    "response = \"\"\n",
    "display_handle = display(Markdown(\"\"), display_id=True)\n",
    "for chunk in stream:\n",
    "    response += chunk.choices[0].delta.content or ''\n",
    "    response = response.replace(\"```\",\"\").replace(\"markdown\", \"\")\n",
    "    update_display(Markdown(response), display_id=display_handle.display_id)"
   ]
  },
  {
   "cell_type": "code",
   "execution_count": null,
   "id": "edfe89ea-3d90-443e-9ded-d334af41d5e0",
   "metadata": {},
   "outputs": [],
   "source": []
  }
 ],
 "metadata": {
  "kernelspec": {
   "display_name": "Python 3 (ipykernel)",
   "language": "python",
   "name": "python3"
  },
  "language_info": {
   "codemirror_mode": {
    "name": "ipython",
    "version": 3
   },
   "file_extension": ".py",
   "mimetype": "text/x-python",
   "name": "python",
   "nbconvert_exporter": "python",
   "pygments_lexer": "ipython3",
   "version": "3.12.7"
  }
 },
 "nbformat": 4,
 "nbformat_minor": 5
}
